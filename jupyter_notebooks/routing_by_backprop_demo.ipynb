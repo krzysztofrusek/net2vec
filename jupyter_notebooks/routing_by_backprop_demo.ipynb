{
  "cells": [
    {
      "cell_type": "markdown",
      "metadata": {
        "id": "view-in-github",
        "colab_type": "text"
      },
      "source": [
        "<a href=\"https://colab.research.google.com/github/krzysztofrusek/net2vec/blob/master/jupyter_notebooks/routing_by_backprop_demo.ipynb\" target=\"_parent\"><img src=\"https://colab.research.google.com/assets/colab-badge.svg\" alt=\"Open In Colab\"/></a>"
      ]
    },
    {
      "cell_type": "code",
      "source": [
        "!pip install dm_haiku optax jraph\n",
        "!apt install xsltproc\n",
        "!git clone https://github.com/krzysztofrusek/net2vec.git"
      ],
      "metadata": {
        "id": "Y7WvDMQIlp29"
      },
      "execution_count": null,
      "outputs": []
    },
    {
      "cell_type": "code",
      "source": [
        "%%bash\n",
        "\n",
        "curl -o sndlib-networks-xml.tgz http://sndlib.zib.de/download/sndlib-networks-xml.tgz\n",
        "\n",
        "tar -xvkf sndlib-networks-xml.tgz\n",
        "xsltproc -o janos-us.graphml net2vec/routing_by_backprop/topo/net2graphml.xslt sndlib-networks-xml/janos-us.xml"
      ],
      "metadata": {
        "id": "mFTJ_mw5mRuL"
      },
      "execution_count": null,
      "outputs": []
    },
    {
      "cell_type": "code",
      "execution_count": null,
      "metadata": {
        "collapsed": true,
        "pycharm": {
          "name": "#%%\n"
        },
        "id": "rCTOOTiRll96"
      },
      "outputs": [],
      "source": [
        "import itertools as it\n",
        "import functools\n",
        "import pickle\n",
        "from typing import Tuple\n",
        "\n",
        "import chex\n",
        "import haiku as hk\n",
        "import jax\n",
        "import jax.numpy as jnp\n",
        "import jraph\n",
        "import matplotlib.pyplot as plt\n",
        "import networkx as nx\n",
        "import numpy as np\n",
        "import optax\n",
        "import seaborn as sns\n",
        "\n",
        "sns.set()\n"
      ]
    },
    {
      "cell_type": "markdown",
      "source": [
        "# Toy model"
      ],
      "metadata": {
        "collapsed": false,
        "pycharm": {
          "name": "#%% md\n"
        },
        "id": "iIuvjbXOll9-"
      }
    },
    {
      "cell_type": "markdown",
      "source": [
        "Let us begin with a simple toy model showing our approach.\n",
        "Assume we wish to minimize the piece-wise constant function presented in Figure\n",
        "\n",
        "Since the gradient of $f$ 0 almost everywhere, gradient methods cannot be applied.\n",
        "However, we can approximate the staircase function $f(x)$ a neural network $\\hat f(x)$.\n",
        "The NN is differentiable, so we can surrogate the objective gradient by the gradient of the approximation $\\nabla \\hat f(x)$ in gradient descent.\n",
        "Notice that sign of the surrogate gradient shows the correct monotonicity of the function.\n"
      ],
      "metadata": {
        "collapsed": false,
        "pycharm": {
          "name": "#%% md\n"
        },
        "id": "5aof4We0ll-A"
      }
    },
    {
      "cell_type": "code",
      "execution_count": null,
      "outputs": [],
      "source": [
        "def stair_case_function(x: chex.Array) -> chex.Array:\n",
        "    p = jnp.poly(-jnp.array([-1, -0.5, 0.5, 1]))\n",
        "    smooth = jnp.polyval(p, x) / 0.2\n",
        "    return jnp.ceil(smooth), smooth\n",
        "\n",
        "\n",
        "x = np.linspace(-1.2, 1.2, 100)\n",
        "y, ysmooth = stair_case_function(x)\n",
        "\n",
        "\n",
        "xtrain = np.random.uniform(low=x[0], high=x[-1], size=(128, 1))\n",
        "ytrain, _ = stair_case_function(xtrain)\n",
        "\n",
        "\n",
        "@hk.transform\n",
        "def nn(x):\n",
        "    return hk.nets.MLP([16, 1], activation=jax.nn.tanh)(x)\n",
        "\n",
        "\n",
        "rng = jax.random.PRNGKey(42)\n",
        "\n",
        "params = nn.init(rng, xtrain)\n",
        "opt = optax.adam(0.01)\n",
        "\n",
        "opt_state = opt.init(params)\n",
        "\n",
        "\n",
        "def loss(params, x, y):\n",
        "    yhat = nn.apply(params, None, x)\n",
        "    return jnp.mean(optax.l2_loss(yhat, y))\n",
        "\n",
        "\n",
        "grad_loss = jax.jit(jax.grad(loss))\n",
        "\n",
        "\n",
        "@jax.jit\n",
        "def step(params, opt_state, x, y):\n",
        "    grads = jax.grad(loss)(params, xtrain, ytrain)\n",
        "    updates, opt_state = opt.update(grads, opt_state, params)\n",
        "    params = optax.apply_updates(params, updates)\n",
        "    return params, opt_state\n",
        "\n",
        "\n",
        "for _ in range(1000):\n",
        "    params, opt_state = step(params, opt_state, xtrain, ytrain)\n",
        "\n",
        "\n",
        "# %%\n",
        "@jax.jit\n",
        "def grad_fn(params, rng, x):\n",
        "    @functools.partial(jax.vmap, in_axes=(0, None, None))\n",
        "    @jax.grad\n",
        "    def fn(x, params, rng):\n",
        "        return nn.apply(params, rng, jnp.expand_dims(x, 0))[0]\n",
        "\n",
        "    return fn(x, params, rng)\n",
        "\n",
        "\n",
        "yhat = nn.apply(params, rng, x[..., np.newaxis])[:, 0]\n",
        "grads = grad_fn(params, rng, x)\n",
        "\n",
        "\n",
        "\n",
        "fig, ax = plt.subplots( constrained_layout=True)\n",
        "\n",
        "sns.lineplot(x=x, y=y, label='$f(x)$', ax=ax)\n",
        "\n",
        "sns.lineplot(x=x, y=yhat, label='$\\hat f(x)$', ax=ax)\n",
        "\n",
        "ax = sns.lineplot(x=x, y=0.1 * grads, label=r'$\\nabla \\hat f(x)$', ax=ax)\n",
        "ax.lines[2].set_linestyle(\"--\")\n",
        "plt.legend(ncol=3)\n",
        "\n"
      ],
      "metadata": {
        "pycharm": {
          "name": "#%%\n"
        },
        "id": "LjKke9ewll-A"
      }
    },
    {
      "cell_type": "markdown",
      "source": [
        "# Real Network"
      ],
      "metadata": {
        "collapsed": false,
        "pycharm": {
          "name": "#%% md\n"
        },
        "id": "0Aa0AHMull-B"
      }
    },
    {
      "cell_type": "code",
      "execution_count": null,
      "outputs": [],
      "source": [
        "G = nx.read_graphml(\"janos-us.graphml\")\n",
        "G = nx.convert_node_labels_to_integers(G)\n",
        "G = nx.DiGraph(G)\n",
        "w = {k: 1. for k in G.edges}\n",
        "nx.set_edge_attributes(G, w, name='weight')\n",
        "\n",
        "all_pairs = dict(nx.all_pairs_dijkstra_path(G, weight='weight'))\n",
        "G.graph['all_pairs']=all_pairs\n",
        "pos =  {k:[float(v['x']),float(v['y'])] for k,v in G.nodes.data()}\n",
        "nx.draw_networkx(G, pos=pos)"
      ],
      "metadata": {
        "pycharm": {
          "name": "#%%\n"
        },
        "id": "33DoRhgHll-C"
      }
    },
    {
      "cell_type": "markdown",
      "source": [
        "## Utility functions"
      ],
      "metadata": {
        "collapsed": false,
        "pycharm": {
          "name": "#%% md\n"
        },
        "id": "F4euZYW0ll-C"
      }
    },
    {
      "cell_type": "code",
      "execution_count": null,
      "outputs": [],
      "source": [
        "def pairwise(iterable):\n",
        "    \"s -> (s0,s1), (s1,s2), (s2, s3), ...\"\n",
        "    a, b = it.tee(iterable)\n",
        "    next(b, None)\n",
        "    return zip(a, b)\n",
        "\n",
        "def to_jraph(G:nx.Graph, src:int, dst:int)->Tuple[jraph.GraphsTuple, chex.Array]:\n",
        "        nnodes = len(G)\n",
        "        routing = G.graph['all_pairs']\n",
        "        ledges = list(G.edges)\n",
        "        relation_data = np.array(list(G.edges.data('weight')))\n",
        "\n",
        "        nodes = np.zeros((nnodes, 2))\n",
        "        nodes[src, 0] = 1\n",
        "        nodes[dst, 1] = 1\n",
        "        nodes = jnp.array(nodes)\n",
        "\n",
        "\n",
        "        senders, receivers = jnp.split(relation_data[:, :2].astype(np.int32), 2, 1)\n",
        "        edges = jnp.array(relation_data[:, 2:])\n",
        "\n",
        "        x = jraph.GraphsTuple(\n",
        "            n_node=jnp.asarray([nodes.shape[0]]),\n",
        "            n_edge=jnp.asarray([edges.shape[0]]),\n",
        "            nodes=nodes,\n",
        "            edges=edges,\n",
        "            senders=senders.flatten(),\n",
        "            receivers=receivers.flatten(),\n",
        "            globals=None\n",
        "        )\n",
        "        y = np.zeros((relation_data.shape[0],1))\n",
        "\n",
        "        path = [ledges.index(e) for e in pairwise(routing[src][dst])]\n",
        "        y[path,0] = 1\n",
        "        return x,y\n",
        "\n"
      ],
      "metadata": {
        "pycharm": {
          "name": "#%%\n"
        },
        "id": "YYXm4D44ll-D"
      }
    },
    {
      "cell_type": "markdown",
      "source": [
        "# The model\n",
        "\n",
        "Our model maps weighted graph to soft routing representing probabilities that given link belongs to the shortest path between two given nodes"
      ],
      "metadata": {
        "collapsed": false,
        "pycharm": {
          "name": "#%% md\n"
        },
        "id": "RV_d4XJrll-D"
      }
    },
    {
      "cell_type": "code",
      "execution_count": null,
      "outputs": [],
      "source": [
        "NUM_LAYERS = 2  # Hard-code number of layers in the edge/node/global models.\n",
        "LATENT_SIZE = 128  # Hard-code latent layer sizes for demos.\n",
        "\n",
        "\n",
        "class MLPModule(hk.Module):\n",
        "  def __call__(self, x, is_training=False)->jnp.ndarray:\n",
        "    x=hk.nets.MLP([LATENT_SIZE] * NUM_LAYERS,activate_final=True)(x)\n",
        "    x = hk.LayerNorm(axis=1, create_offset=True, create_scale=True)(x)\n",
        "    return x\n",
        "\n",
        "\n",
        "def network_definition(graph: jraph.GraphsTuple) -> jraph.GraphsTuple:\n",
        "    latent = jraph.GraphMapFeatures(MLPModule(), MLPModule())(graph)\n",
        "    latent0 = latent\n",
        "    outputs = []\n",
        "\n",
        "    core = jraph.GraphNetwork(\n",
        "        update_edge_fn=jraph.concatenated_args(MLPModule()),\n",
        "        update_node_fn=jraph.concatenated_args(MLPModule())\n",
        "    )\n",
        "    decoder = jraph.GraphMapFeatures(MLPModule(), MLPModule())\n",
        "\n",
        "    output_transform = jraph.GraphMapFeatures(\n",
        "        embed_edge_fn=hk.Linear(1)\n",
        "    )\n",
        "\n",
        "    num_message_passing_steps = 8\n",
        "    for _ in range(num_message_passing_steps):\n",
        "        core_input = latent._replace(\n",
        "            nodes=jnp.concatenate((latent.nodes, latent0.nodes), axis=1),\n",
        "            edges=jnp.concatenate((latent.edges, latent0.edges), axis=1)\n",
        "        )\n",
        "        latent = core(core_input)\n",
        "        decoded = decoder(latent)\n",
        "        outputs.append(output_transform(decoded))\n",
        "\n",
        "    return outputs\n"
      ],
      "metadata": {
        "pycharm": {
          "name": "#%%\n"
        },
        "id": "6zhdRTPNll-E"
      }
    },
    {
      "cell_type": "markdown",
      "source": [
        "Let's load pretrained model as training from scratch would take ~30 min."
      ],
      "metadata": {
        "collapsed": false,
        "pycharm": {
          "name": "#%% md\n"
        },
        "id": "1RXOzxwQll-E"
      }
    },
    {
      "cell_type": "code",
      "execution_count": null,
      "outputs": [],
      "source": [
        "with open('net2vec/routing_by_backprop/log/labsim/sp1/snapshot-8000.pickle', 'rb') as f:\n",
        "    params, state = pickle.load(f)\n"
      ],
      "metadata": {
        "pycharm": {
          "name": "#%%\n"
        },
        "id": "a8yD9bvFll-F"
      }
    },
    {
      "cell_type": "markdown",
      "source": [
        "Now we can evaluate the model and compare its prediction with Dijkstra algorithm"
      ],
      "metadata": {
        "collapsed": false,
        "pycharm": {
          "name": "#%% md\n"
        },
        "id": "bfb7KCsxll-F"
      }
    },
    {
      "cell_type": "code",
      "execution_count": null,
      "outputs": [],
      "source": [
        "src = 4\n",
        "dst = 7\n",
        "\n",
        "x,y = to_jraph(G,src,dst)"
      ],
      "metadata": {
        "pycharm": {
          "name": "#%%\n"
        },
        "id": "gwQ0vnQlll-F"
      }
    },
    {
      "cell_type": "code",
      "execution_count": null,
      "outputs": [],
      "source": [
        "network = hk.without_apply_rng(hk.transform_with_state(network_definition))\n",
        "hats, _ = network.apply(params, state, x)"
      ],
      "metadata": {
        "pycharm": {
          "name": "#%%\n"
        },
        "id": "gFrhoSJkll-G"
      }
    },
    {
      "cell_type": "code",
      "execution_count": null,
      "outputs": [],
      "source": [
        "p = jax.nn.sigmoid(hats[-2].edges)\n",
        "fig,axs = plt.subplots(ncols=2,figsize=(12,4))\n",
        "\n",
        "spl = list(pairwise(G.graph['all_pairs'][src][dst]))\n",
        "\n",
        "def plot_route(G, pos, alpha, ax):\n",
        "    nx.draw_networkx_nodes(G, pos, nodelist=set(G.nodes).difference(set([src,dst])),ax=ax)\n",
        "    nx.draw_networkx_nodes(G, pos, nodelist=[src],node_color='green',ax=ax)\n",
        "    nx.draw_networkx_nodes(G, pos, nodelist=[dst],node_color='red',ax=ax)\n",
        "    nx.draw_networkx_edges(G,pos,edge_color='blue', alpha=0.2,ax=ax,style=':');\n",
        "    nx.draw_networkx_edges(G,pos,edge_color=[(0.,0.,0.,np.asarray(a)) for a in alpha],ax=ax);\n",
        "    nx.draw_networkx_labels(G,pos,ax=ax);\n",
        "\n",
        "spl = list(pairwise(G.graph['all_pairs'][src][dst]))\n",
        "alpha=[float(e in spl) for e in G.edges]\n",
        "\n",
        "plot_route(G,pos,alpha,axs[0])\n",
        "axs[0].set_title('Hard routing');\n",
        "plot_route(G,pos,p.flatten(),axs[1])\n",
        "axs[1].set_title('Soft routing');\n"
      ],
      "metadata": {
        "pycharm": {
          "name": "#%%\n"
        },
        "id": "nbb0xhColl-G"
      }
    },
    {
      "cell_type": "markdown",
      "source": [
        "# Optimization"
      ],
      "metadata": {
        "collapsed": false,
        "pycharm": {
          "name": "#%% md\n"
        },
        "id": "Ea6GJXr9ll-H"
      }
    },
    {
      "cell_type": "markdown",
      "source": [
        "For network optimization we need to evaluate our model for all possible source-destination pars.\n",
        "An efficient implementation is obtained by `vmap` transformation."
      ],
      "metadata": {
        "collapsed": false,
        "pycharm": {
          "name": "#%% md\n"
        },
        "id": "IuGpjojSll-H"
      }
    },
    {
      "cell_type": "code",
      "execution_count": null,
      "outputs": [],
      "source": [
        "def apply_for_pair(w: jnp.array, src: jnp.array, dst: jnp.array, params: hk.Params, state: hk.State,\n",
        "                   graph_template: jraph.GraphsTuple) -> jnp.array:\n",
        "    nodes = jnp.zeros_like(graph_template.nodes)\n",
        "    nodes = nodes.at[src, 0].set(1)\n",
        "    nodes = nodes.at[dst, 1].set(1)\n",
        "    graph = graph_template._replace(nodes=nodes)\n",
        "    graph = graph._replace(edges=w)\n",
        "    hats, _ = network.apply(params, state, graph)\n",
        "    return jax.nn.sigmoid(hats[-1].edges.flatten())\n",
        "\n",
        "apply_for_graph = jax.vmap(apply_for_pair, in_axes=(None, 0, 0, None, None, None))\n",
        "\n",
        "temperature = 0.1\n",
        "\n",
        "@jax.jit\n",
        "def cost_fn(x:jnp.ndarray)->float:\n",
        "    '''Smooth approximation to max function'''\n",
        "    scaled_x = x/temperature\n",
        "    return temperature*jnp.dot(jax.nn.softmax(scaled_x),scaled_x)\n",
        "\n",
        "\n",
        "def cost(w: jnp.array, src: jnp.array, dst: jnp.array, params: hk.Params, state: hk.State,\n",
        "         graph_template: jraph.GraphsTuple, tm: jnp.array) -> jnp.array:\n",
        "    p = apply_for_graph(w, src, dst, params, state, graph_template)\n",
        "    flat_tm = tm[src, dst]\n",
        "    link_traffic = flat_tm @ p\n",
        "    return cost_fn(link_traffic)\n",
        "\n",
        "def true_cost(H: nx.DiGraph, tm: np.array, src: np.array, dst: np.array, x: jraph.GraphsTuple, w: np.array):\n",
        "    '''\n",
        "    Compute true cos without any soft approximation\n",
        "    :param H: topology\n",
        "    :param tm: traffic matrix\n",
        "    :param src: sender indices\n",
        "    :param dst: receiver indices\n",
        "    :param x: template graph\n",
        "    :param w: weights\n",
        "    :return: max load\n",
        "    '''\n",
        "    edge_attributes = {(int(s), int(r)): float(aw) for s, r, aw in zip(x.senders, x.receivers, w)}\n",
        "    nx.set_edge_attributes(H, edge_attributes, 'weight')\n",
        "    all_pairs = dict(nx.all_pairs_dijkstra_path(H, weight='weight'))\n",
        "\n",
        "    hard_routing = []\n",
        "    ledges = list(H.edges)\n",
        "    for sd in zip(src, dst):\n",
        "        s,d = jax.tree_map(int,sd)\n",
        "        row = np.zeros(w.shape[0])\n",
        "        path = [ledges.index(e) for e in pairwise(all_pairs[s][d])]\n",
        "        row[path] = 1\n",
        "        hard_routing.append(row)\n",
        "\n",
        "    hard_routing = np.stack(hard_routing, axis=0)\n",
        "    flat_tm = tm[src, dst]\n",
        "    link_traffic = flat_tm @ hard_routing\n",
        "    th = float(np.max(link_traffic))\n",
        "\n",
        "    return th\n",
        "\n",
        "@jax.jit\n",
        "def update(w: jnp.array, src: jnp.array, dst: jnp.array, params: hk.Params, state: hk.State,\n",
        "         graph_template: jraph.GraphsTuple, tm: jnp.array,lr: chex.Array) -> jnp.array:\n",
        "    '''Gradient descent update   constrained to positive link weights'''\n",
        "    grads = jax.grad(cost)(w, src, dst, params, state, graph_template, tm)\n",
        "    proposal = w - lr*grads\n",
        "    proposal = jnp.where(proposal < 0, 3*lr, proposal)\n",
        "    return proposal\n",
        "\n"
      ],
      "metadata": {
        "pycharm": {
          "name": "#%%\n"
        },
        "id": "DCixZTsHll-I"
      }
    },
    {
      "cell_type": "markdown",
      "source": [
        "Neural network builds differentiable surrogate for discrete Dijkstra algorith.\n",
        "Let's  explore the gradient of the approximation to minimize the TE function."
      ],
      "metadata": {
        "collapsed": false,
        "pycharm": {
          "name": "#%% md\n"
        },
        "id": "68I-B8twll-I"
      }
    },
    {
      "cell_type": "code",
      "execution_count": null,
      "outputs": [],
      "source": [
        "n = len(G)\n",
        "\n",
        "srcu, dstu = np.triu_indices(n, k=1)\n",
        "srcl, dstl = np.tril_indices(n, k=-1)\n",
        "\n",
        "src = jnp.concatenate([srcu, srcl], axis=0)\n",
        "dst = jnp.concatenate([dstu, dstl], axis=0)\n",
        "\n",
        "# This controls congestion level\n",
        "tmscale = 0.6\n",
        "\n",
        "w = jnp.ones_like(x.edges)\n",
        "tm = tmscale * np.random.uniform(0.0, 1.0, size=(n, n)) / (n - 1)\n",
        "\n",
        "H = G.copy()\n",
        "\n",
        "initialcost = true_cost(H, tm, src, dst, x, w)\n",
        "result = dict(\n",
        "            initialcost=initialcost,\n",
        "        )\n",
        "\n",
        "lr = 2e-2\n",
        "\n",
        "for i in range(3):\n",
        "    w = update(w, src, dst, params, state, x, tm,lr)\n",
        "    result[f'finalcost_{i}'] = true_cost(H, tm, src, dst, x, w)\n",
        "\n",
        "w=w.block_until_ready()\n",
        "\n",
        "result"
      ],
      "metadata": {
        "pycharm": {
          "name": "#%%\n"
        },
        "id": "Y3YFyLXnll-J"
      }
    },
    {
      "cell_type": "markdown",
      "source": [
        "Notice how the ***true*** maximum load is reduced."
      ],
      "metadata": {
        "collapsed": false,
        "pycharm": {
          "name": "#%% md\n"
        },
        "id": "W9g7DkyAll-J"
      }
    }
  ],
  "metadata": {
    "kernelspec": {
      "display_name": "Python 3",
      "language": "python",
      "name": "python3"
    },
    "language_info": {
      "codemirror_mode": {
        "name": "ipython",
        "version": 2
      },
      "file_extension": ".py",
      "mimetype": "text/x-python",
      "name": "python",
      "nbconvert_exporter": "python",
      "pygments_lexer": "ipython2",
      "version": "2.7.6"
    },
    "colab": {
      "provenance": [],
      "collapsed_sections": [],
      "include_colab_link": true
    }
  },
  "nbformat": 4,
  "nbformat_minor": 0
}