{
  "cells": [
    {
      "cell_type": "markdown",
      "metadata": {
        "id": "view-in-github",
        "colab_type": "text"
      },
      "source": [
        "<a href=\"https://colab.research.google.com/github/krzysztofrusek/net2vec/blob/master/jupyter_notebooks/routing_by_backprop_demo.ipynb\" target=\"_parent\"><img src=\"https://colab.research.google.com/assets/colab-badge.svg\" alt=\"Open In Colab\"/></a>"
      ]
    },
    {
      "cell_type": "code",
      "source": [
        "!pip install dm_haiku optax jraph\n",
        "!apt install xsltproc\n",
        "!git clone https://github.com/krzysztofrusek/net2vec.git"
      ],
      "metadata": {
        "id": "Y7WvDMQIlp29",
        "outputId": "e8bdc2c5-23c5-4a47-9114-96a1a3f83dea",
        "colab": {
          "base_uri": "https://localhost:8080/"
        }
      },
      "execution_count": null,
      "outputs": [
        {
          "output_type": "stream",
          "name": "stdout",
          "text": [
            "Looking in indexes: https://pypi.org/simple, https://us-python.pkg.dev/colab-wheels/public/simple/\n",
            "Collecting dm_haiku\n",
            "  Downloading dm_haiku-0.0.7-py3-none-any.whl (342 kB)\n",
            "\u001b[K     |████████████████████████████████| 342 kB 13.5 MB/s \n",
            "\u001b[?25hCollecting optax\n",
            "  Downloading optax-0.1.3-py3-none-any.whl (145 kB)\n",
            "\u001b[K     |████████████████████████████████| 145 kB 54.2 MB/s \n",
            "\u001b[?25hCollecting jraph\n",
            "  Downloading jraph-0.0.6.dev0-py3-none-any.whl (90 kB)\n",
            "\u001b[K     |████████████████████████████████| 90 kB 8.4 MB/s \n",
            "\u001b[?25hRequirement already satisfied: typing-extensions in /usr/local/lib/python3.7/dist-packages (from dm_haiku) (4.1.1)\n",
            "Requirement already satisfied: numpy>=1.18.0 in /usr/local/lib/python3.7/dist-packages (from dm_haiku) (1.21.6)\n",
            "Requirement already satisfied: absl-py>=0.7.1 in /usr/local/lib/python3.7/dist-packages (from dm_haiku) (1.2.0)\n",
            "Requirement already satisfied: tabulate>=0.8.9 in /usr/local/lib/python3.7/dist-packages (from dm_haiku) (0.8.10)\n",
            "Collecting jmp>=0.0.2\n",
            "  Downloading jmp-0.0.2-py3-none-any.whl (16 kB)\n",
            "Requirement already satisfied: jaxlib>=0.1.37 in /usr/local/lib/python3.7/dist-packages (from optax) (0.3.15+cuda11.cudnn805)\n",
            "Collecting chex>=0.0.4\n",
            "  Downloading chex-0.1.4-py3-none-any.whl (76 kB)\n",
            "\u001b[K     |████████████████████████████████| 76 kB 5.3 MB/s \n",
            "\u001b[?25hRequirement already satisfied: jax>=0.1.55 in /usr/local/lib/python3.7/dist-packages (from optax) (0.3.17)\n",
            "Requirement already satisfied: dm-tree>=0.1.5 in /usr/local/lib/python3.7/dist-packages (from chex>=0.0.4->optax) (0.1.7)\n",
            "Requirement already satisfied: toolz>=0.9.0 in /usr/local/lib/python3.7/dist-packages (from chex>=0.0.4->optax) (0.12.0)\n",
            "Requirement already satisfied: etils[epath] in /usr/local/lib/python3.7/dist-packages (from jax>=0.1.55->optax) (0.7.1)\n",
            "Requirement already satisfied: opt-einsum in /usr/local/lib/python3.7/dist-packages (from jax>=0.1.55->optax) (3.3.0)\n",
            "Requirement already satisfied: scipy>=1.5 in /usr/local/lib/python3.7/dist-packages (from jax>=0.1.55->optax) (1.7.3)\n",
            "Requirement already satisfied: importlib_resources in /usr/local/lib/python3.7/dist-packages (from etils[epath]->jax>=0.1.55->optax) (5.9.0)\n",
            "Requirement already satisfied: zipp in /usr/local/lib/python3.7/dist-packages (from etils[epath]->jax>=0.1.55->optax) (3.8.1)\n",
            "Installing collected packages: jmp, chex, optax, jraph, dm-haiku\n",
            "Successfully installed chex-0.1.4 dm-haiku-0.0.7 jmp-0.0.2 jraph-0.0.6.dev0 optax-0.1.3\n",
            "Reading package lists... Done\n",
            "Building dependency tree       \n",
            "Reading state information... Done\n",
            "The following package was automatically installed and is no longer required:\n",
            "  libnvidia-common-460\n",
            "Use 'apt autoremove' to remove it.\n",
            "The following NEW packages will be installed:\n",
            "  xsltproc\n",
            "0 upgraded, 1 newly installed, 0 to remove and 32 not upgraded.\n",
            "Need to get 14.0 kB of archives.\n",
            "After this operation, 158 kB of additional disk space will be used.\n",
            "Get:1 http://archive.ubuntu.com/ubuntu bionic-updates/main amd64 xsltproc amd64 1.1.29-5ubuntu0.3 [14.0 kB]\n",
            "Fetched 14.0 kB in 0s (331 kB/s)\n",
            "Selecting previously unselected package xsltproc.\n",
            "(Reading database ... 155685 files and directories currently installed.)\n",
            "Preparing to unpack .../xsltproc_1.1.29-5ubuntu0.3_amd64.deb ...\n",
            "Unpacking xsltproc (1.1.29-5ubuntu0.3) ...\n",
            "Setting up xsltproc (1.1.29-5ubuntu0.3) ...\n",
            "Processing triggers for man-db (2.8.3-2ubuntu0.1) ...\n",
            "Cloning into 'net2vec'...\n",
            "remote: Enumerating objects: 124, done.\u001b[K\n",
            "remote: Counting objects: 100% (51/51), done.\u001b[K\n",
            "remote: Compressing objects: 100% (42/42), done.\u001b[K\n",
            "remote: Total 124 (delta 11), reused 37 (delta 6), pack-reused 73\u001b[K\n",
            "Receiving objects: 100% (124/124), 1.65 MiB | 1.99 MiB/s, done.\n",
            "Resolving deltas: 100% (43/43), done.\n"
          ]
        }
      ]
    },
    {
      "cell_type": "code",
      "source": [
        "%%bash\n",
        "\n",
        "curl -o sndlib-networks-xml.tgz http://sndlib.zib.de/download/sndlib-networks-xml.tgz\n",
        "\n",
        "tar -xvkf sndlib-networks-xml.tgz\n",
        "xsltproc -o janos-us.graphml net2vec/routing_by_backprop/topo/net2graphml.xslt sndlib-networks-xml/janos-us.xml"
      ],
      "metadata": {
        "id": "mFTJ_mw5mRuL",
        "outputId": "f9a2d3f1-d42b-4ed8-e333-91cc7732546e",
        "colab": {
          "base_uri": "https://localhost:8080/"
        }
      },
      "execution_count": null,
      "outputs": [
        {
          "output_type": "stream",
          "name": "stdout",
          "text": [
            "sndlib-networks-xml/abilene.xml\n",
            "sndlib-networks-xml/atlanta.xml\n",
            "sndlib-networks-xml/brain.xml\n",
            "sndlib-networks-xml/cost266.xml\n",
            "sndlib-networks-xml/dfn-bwin.xml\n",
            "sndlib-networks-xml/dfn-gwin.xml\n",
            "sndlib-networks-xml/di-yuan.xml\n",
            "sndlib-networks-xml/france.xml\n",
            "sndlib-networks-xml/geant.xml\n",
            "sndlib-networks-xml/germany50.xml\n",
            "sndlib-networks-xml/giul39.xml\n",
            "sndlib-networks-xml/india35.xml\n",
            "sndlib-networks-xml/janos-us-ca.xml\n",
            "sndlib-networks-xml/janos-us.xml\n",
            "sndlib-networks-xml/newyork.xml\n",
            "sndlib-networks-xml/nobel-eu.xml\n",
            "sndlib-networks-xml/nobel-germany.xml\n",
            "sndlib-networks-xml/nobel-us.xml\n",
            "sndlib-networks-xml/norway.xml\n",
            "sndlib-networks-xml/pdh.xml\n",
            "sndlib-networks-xml/pioro40.xml\n",
            "sndlib-networks-xml/polska.xml\n",
            "sndlib-networks-xml/sun.xml\n",
            "sndlib-networks-xml/ta1.xml\n",
            "sndlib-networks-xml/ta2.xml\n",
            "sndlib-networks-xml/zib54.xml\n"
          ]
        },
        {
          "output_type": "stream",
          "name": "stderr",
          "text": [
            "  % Total    % Received % Xferd  Average Speed   Time    Time     Time  Current\n",
            "                                 Dload  Upload   Total   Spent    Left  Speed\n",
            "\r  0     0    0     0    0     0      0      0 --:--:-- --:--:-- --:--:--     0\r  0     0    0     0    0     0      0      0 --:--:-- --:--:-- --:--:--     0\r100  775k  100  775k    0     0  2971k      0 --:--:-- --:--:-- --:--:-- 2960k\n"
          ]
        }
      ]
    },
    {
      "cell_type": "code",
      "execution_count": null,
      "metadata": {
        "collapsed": true,
        "pycharm": {
          "name": "#%%\n"
        },
        "id": "rCTOOTiRll96",
        "colab": {
          "base_uri": "https://localhost:8080/"
        },
        "outputId": "31fb9db9-1be6-4a46-9d8e-a336bc7f8313"
      },
      "outputs": [
        {
          "output_type": "stream",
          "name": "stderr",
          "text": [
            "/usr/local/lib/python3.7/dist-packages/haiku/_src/data_structures.py:37: FutureWarning: jax.tree_structure is deprecated, and will be removed in a future release. Use jax.tree_util.tree_structure instead.\n",
            "  PyTreeDef = type(jax.tree_structure(None))\n"
          ]
        }
      ],
      "source": [
        "import itertools as it\n",
        "import functools\n",
        "import pickle\n",
        "from typing import Tuple\n",
        "\n",
        "import chex\n",
        "import haiku as hk\n",
        "import jax\n",
        "import jax.numpy as jnp\n",
        "import jraph\n",
        "import matplotlib.pyplot as plt\n",
        "import networkx as nx\n",
        "import numpy as np\n",
        "import optax\n",
        "import seaborn as sns\n",
        "\n",
        "sns.set()"
      ]
    },
    {
      "cell_type": "markdown",
      "source": [
        "# Toy model\n",
        "Let us begin with a simple toy model showing our approach.\n",
        "Assume we wish to minimize the piece-wise constant function $f(x)$ presented in the figure below. Since the gradient of $f$ is 0 almost everywhere, gradient methods cannot be applied. However, we can approximate the staircase function $f(x)$ with a neural network $\\hat f(x)$. \n",
        "\n",
        "\n",
        "![staircase.png](data:image/png;base64,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)"
      ],
      "metadata": {
        "collapsed": false,
        "pycharm": {
          "name": "#%% md\n"
        },
        "id": "5aof4We0ll-A"
      }
    },
    {
      "cell_type": "code",
      "execution_count": null,
      "outputs": [
        {
          "output_type": "stream",
          "name": "stderr",
          "text": [
            "WARNING:absl:No GPU/TPU found, falling back to CPU. (Set TF_CPP_MIN_LOG_LEVEL=0 and rerun for more info.)\n"
          ]
        },
        {
          "output_type": "stream",
          "name": "stdout",
          "text": [
            "[[-0.40087595]\n",
            " [-0.43607905]\n",
            " [ 0.29376148]\n",
            " [-1.1912414 ]\n",
            " [ 0.56265697]] [[ 1.]\n",
            " [ 1.]\n",
            " [ 1.]\n",
            " [ 3.]\n",
            " [-0.]]\n"
          ]
        }
      ],
      "source": [
        "# Define the piece-wise constant function f(x)\n",
        "def stair_case_function(x: chex.Array) -> chex.Array:\n",
        "    p = jnp.poly(-jnp.array([-1, -0.5, 0.5, 1]))\n",
        "    smooth = jnp.polyval(p, x) / 0.2\n",
        "    return jnp.ceil(smooth), smooth\n",
        "\n",
        "# Create samples for the f(x) function between x values -1.2 and 1.2\n",
        "x = np.linspace(-1.2, 1.2, 100)\n",
        "y, ysmooth = stair_case_function(x)\n",
        "\n",
        "# Preparing the training dataset\n",
        "xtrain = np.random.uniform(low=x[0], high=x[-1], size=(128, 1))\n",
        "ytrain, _ = stair_case_function(xtrain)\n",
        "\n",
        "# Show the first 5 samples and the corresponding labels\n",
        "print(xtrain[:5], ytrain[:5])"
      ],
      "metadata": {
        "pycharm": {
          "name": "#%%\n"
        },
        "id": "LjKke9ewll-A",
        "outputId": "e299d1b8-f731-483a-c455-00e9a6211f17",
        "colab": {
          "base_uri": "https://localhost:8080/"
        }
      }
    },
    {
      "cell_type": "code",
      "source": [
        "# Create the NN model\n",
        "@hk.transform\n",
        "def nn(x):\n",
        "    return hk.nets.MLP([16, 1], activation=jax.nn.tanh)(x)\n",
        "\n",
        "rng = jax.random.PRNGKey(42)\n",
        "\n",
        "params = nn.init(rng, xtrain)\n",
        "opt = optax.adam(0.01)\n",
        "\n",
        "opt_state = opt.init(params)\n",
        "\n",
        "def loss(params, x, y):\n",
        "    yhat = nn.apply(params, None, x)\n",
        "    return jnp.mean(optax.l2_loss(yhat, y))\n",
        "\n",
        "grad_loss = jax.jit(jax.grad(loss))\n",
        "\n",
        "@jax.jit\n",
        "def step(params, opt_state, x, y):\n",
        "    grads = jax.grad(loss)(params, xtrain, ytrain)\n",
        "    updates, opt_state = opt.update(grads, opt_state, params)\n",
        "    params = optax.apply_updates(params, updates)\n",
        "    return params, opt_state\n",
        "\n",
        "# Training\n",
        "for _ in range(1000):\n",
        "    params, opt_state = step(params, opt_state, xtrain, ytrain)\n",
        "\n",
        "\n",
        "# %%\n",
        "@jax.jit\n",
        "def grad_fn(params, rng, x):\n",
        "    @functools.partial(jax.vmap, in_axes=(0, None, None))\n",
        "    @jax.grad\n",
        "    def fn(x, params, rng):\n",
        "        return nn.apply(params, rng, jnp.expand_dims(x, 0))[0]\n",
        "\n",
        "    return fn(x, params, rng)"
      ],
      "metadata": {
        "colab": {
          "base_uri": "https://localhost:8080/"
        },
        "id": "GYSTnLApuqPo",
        "outputId": "446664a7-e89c-4956-83ad-a76d49a476fa"
      },
      "execution_count": null,
      "outputs": [
        {
          "output_type": "stream",
          "name": "stderr",
          "text": [
            "/usr/local/lib/python3.7/dist-packages/haiku/_src/base.py:497: UserWarning: Explicitly requested dtype float64 requested in zeros is not available, and will be truncated to dtype float32. To enable more dtypes, set the jax_enable_x64 configuration option or the JAX_ENABLE_X64 shell environment variable. See https://github.com/google/jax#current-gotchas for more.\n",
            "  param = init(shape, dtype)\n",
            "/usr/local/lib/python3.7/dist-packages/haiku/_src/data_structures.py:144: FutureWarning: jax.tree_flatten is deprecated, and will be removed in a future release. Use jax.tree_util.tree_flatten instead.\n",
            "  leaves, treedef = jax.tree_flatten(tree)\n",
            "/usr/local/lib/python3.7/dist-packages/haiku/_src/data_structures.py:145: FutureWarning: jax.tree_unflatten is deprecated, and will be removed in a future release. Use jax.tree_util.tree_unflatten instead.\n",
            "  return jax.tree_unflatten(treedef, leaves)\n"
          ]
        }
      ]
    },
    {
      "cell_type": "markdown",
      "source": [
        "The NN is differentiable, so we can surrogate the objective gradient by the gradient of the approximation $\\nabla \\hat f(x)$ in gradient descent. Notice that the sign of the surrogate gradient shows the correct monotonicity of the function."
      ],
      "metadata": {
        "id": "e4YcfBxI4Sn6"
      }
    },
    {
      "cell_type": "code",
      "source": [
        "# Make inference with trained NN and compute the gradients\n",
        "yhat = nn.apply(params, rng, x[..., np.newaxis])[:, 0]\n",
        "grads = grad_fn(params, rng, x)\n",
        "\n",
        "fig, ax = plt.subplots( constrained_layout=True)\n",
        "\n",
        "sns.lineplot(x=x, y=y, label='$f(x)$', ax=ax)\n",
        "sns.lineplot(x=x, y=yhat, label='$\\hat f(x)$', ax=ax)\n",
        "ax = sns.lineplot(x=x, y=0.1 * grads, label=r'$\\nabla \\hat f(x)$', ax=ax)\n",
        "ax.lines[2].set_linestyle(\"--\")\n",
        "plt.legend(ncol=3)"
      ],
      "metadata": {
        "colab": {
          "base_uri": "https://localhost:8080/",
          "height": 330
        },
        "id": "GhVa3foSwyIu",
        "outputId": "dff47432-fea9-476e-a5ed-6f6aa134568a"
      },
      "execution_count": null,
      "outputs": [
        {
          "output_type": "execute_result",
          "data": {
            "text/plain": [
              "<matplotlib.legend.Legend at 0x7fec3e0cb310>"
            ]
          },
          "metadata": {},
          "execution_count": 6
        },
        {
          "output_type": "display_data",
          "data": {
            "text/plain": [
              "<Figure size 432x288 with 1 Axes>"
            ],
            "image/png": "[encoded data removed]"
          },
          "metadata": {}
        }
      ]
    },
    {
      "cell_type": "code",
      "source": [
        "point=jnp.array([[-1.1]])\n",
        "\n",
        "@jax.jit\n",
        "@jax.grad\n",
        "def nabla(x):\n",
        "  return nn.apply(params, rng, x).sum() #sum make it scalar\n",
        "\n",
        "\n",
        "points=[point]\n",
        "grads_list = list()\n",
        "\n",
        "for _ in range(100):\n",
        "  point = point - 0.001*nabla(point)\n",
        "  points.append(point)\n",
        "  grads_list.append(nabla(point)[0,0])"
      ],
      "metadata": {
        "colab": {
          "base_uri": "https://localhost:8080/"
        },
        "id": "PcDFbOAx4W8I",
        "outputId": "21f43489-331a-488b-f5d3-6429466c499b"
      },
      "execution_count": null,
      "outputs": [
        {
          "output_type": "stream",
          "name": "stderr",
          "text": [
            "/usr/local/lib/python3.7/dist-packages/haiku/_src/data_structures.py:144: FutureWarning: jax.tree_flatten is deprecated, and will be removed in a future release. Use jax.tree_util.tree_flatten instead.\n",
            "  leaves, treedef = jax.tree_flatten(tree)\n",
            "/usr/local/lib/python3.7/dist-packages/haiku/_src/data_structures.py:145: FutureWarning: jax.tree_unflatten is deprecated, and will be removed in a future release. Use jax.tree_util.tree_unflatten instead.\n",
            "  return jax.tree_unflatten(treedef, leaves)\n"
          ]
        }
      ]
    },
    {
      "cell_type": "code",
      "source": [
        "surogates = np.asarray(nn.apply(params, rng, jnp.concatenate(points)))\n",
        "plt.plot(stair_case_function(np.concatenate(points)[:,0])[0], label='stair_case_function')\n",
        "plt.plot(surogates,label='surogate')\n",
        "plt.plot(grads_list, label='gradient')\n",
        "plt.xlabel('step')\n",
        "plt.legend(loc=\"lower right\")"
      ],
      "metadata": {
        "colab": {
          "base_uri": "https://localhost:8080/",
          "height": 302
        },
        "id": "RlnW_8BH4ZOi",
        "outputId": "03a1d199-41c6-42ad-801b-a56b07be347f"
      },
      "execution_count": null,
      "outputs": [
        {
          "output_type": "execute_result",
          "data": {
            "text/plain": [
              "<matplotlib.legend.Legend at 0x7fec4030db10>"
            ]
          },
          "metadata": {},
          "execution_count": 8
        },
        {
          "output_type": "display_data",
          "data": {
            "text/plain": [
              "<Figure size 432x288 with 1 Axes>"
            ],
            "image/png": "[encoded data removed]"
          },
          "metadata": {}
        }
      ]
    },
    {
      "cell_type": "markdown",
      "source": [
        "# Inference on real network\n",
        "\n",
        "In this section we are going to show how to load a pre-trained model and make a simple inference over a real-world network."
      ],
      "metadata": {
        "collapsed": false,
        "pycharm": {
          "name": "#%% md\n"
        },
        "id": "0Aa0AHMull-B"
      }
    },
    {
      "cell_type": "code",
      "execution_count": null,
      "outputs": [
        {
          "output_type": "display_data",
          "data": {
            "text/plain": [
              "<Figure size 432x288 with 1 Axes>"
            ],
            "image/png": "[encoded data removed]"
          },
          "metadata": {}
        }
      ],
      "source": [
        "# Load the real-world network\n",
        "G = nx.read_graphml(\"janos-us.graphml\")\n",
        "G = nx.convert_node_labels_to_integers(G)\n",
        "G = nx.DiGraph(G)\n",
        "w = {k: 1. for k in G.edges}\n",
        "nx.set_edge_attributes(G, w, name='weight')\n",
        "\n",
        "all_pairs = dict(nx.all_pairs_dijkstra_path(G, weight='weight'))\n",
        "G.graph['all_pairs']=all_pairs\n",
        "pos =  {k:[float(v['x']),float(v['y'])] for k,v in G.nodes.data()}\n",
        "nx.draw_networkx(G, pos=pos)"
      ],
      "metadata": {
        "pycharm": {
          "name": "#%%\n"
        },
        "id": "33DoRhgHll-C",
        "outputId": "49b03ead-1e71-4e13-bb68-cab3001124b0",
        "colab": {
          "base_uri": "https://localhost:8080/",
          "height": 248
        }
      }
    },
    {
      "cell_type": "markdown",
      "source": [
        "## Utility functions"
      ],
      "metadata": {
        "collapsed": false,
        "pycharm": {
          "name": "#%% md\n"
        },
        "id": "F4euZYW0ll-C"
      }
    },
    {
      "cell_type": "code",
      "execution_count": null,
      "outputs": [],
      "source": [
        "def pairwise(iterable):\n",
        "    \"s -> (s0,s1), (s1,s2), (s2, s3), ...\"\n",
        "    a, b = it.tee(iterable)\n",
        "    next(b, None)\n",
        "    return zip(a, b)\n",
        "\n",
        "def to_jraph(G:nx.Graph, src:int, dst:int)->Tuple[jraph.GraphsTuple, chex.Array]:\n",
        "        nnodes = len(G)\n",
        "        routing = G.graph['all_pairs']\n",
        "        ledges = list(G.edges)\n",
        "        relation_data = np.array(list(G.edges.data('weight')))\n",
        "\n",
        "        nodes = np.zeros((nnodes, 2))\n",
        "        nodes[src, 0] = 1\n",
        "        nodes[dst, 1] = 1\n",
        "        nodes = jnp.array(nodes)\n",
        "\n",
        "\n",
        "        senders, receivers = jnp.split(relation_data[:, :2].astype(np.int32), 2, 1)\n",
        "        edges = jnp.array(relation_data[:, 2:])\n",
        "\n",
        "        x = jraph.GraphsTuple(\n",
        "            n_node=jnp.asarray([nodes.shape[0]]),\n",
        "            n_edge=jnp.asarray([edges.shape[0]]),\n",
        "            nodes=nodes,\n",
        "            edges=edges,\n",
        "            senders=senders.flatten(),\n",
        "            receivers=receivers.flatten(),\n",
        "            globals=None\n",
        "        )\n",
        "        y = np.zeros((relation_data.shape[0],1))\n",
        "\n",
        "        path = [ledges.index(e) for e in pairwise(routing[src][dst])]\n",
        "        y[path,0] = 1\n",
        "        return x,y"
      ],
      "metadata": {
        "pycharm": {
          "name": "#%%\n"
        },
        "id": "YYXm4D44ll-D"
      }
    },
    {
      "cell_type": "markdown",
      "source": [
        "## The model\n",
        "\n",
        "Our model maps a weighted graph to a soft routing representing the probabilities that each link belongs to the shortest path between two given nodes."
      ],
      "metadata": {
        "collapsed": false,
        "pycharm": {
          "name": "#%% md\n"
        },
        "id": "RV_d4XJrll-D"
      }
    },
    {
      "cell_type": "code",
      "execution_count": null,
      "outputs": [],
      "source": [
        "NUM_LAYERS = 2  # Hard-code number of layers in the edge/node/global models.\n",
        "LATENT_SIZE = 128  # Hard-code latent layer sizes for demos.\n",
        "\n",
        "\n",
        "class MLPModule(hk.Module):\n",
        "  def __call__(self, x, is_training=False)->jnp.ndarray:\n",
        "    x=hk.nets.MLP([LATENT_SIZE] * NUM_LAYERS,activate_final=True)(x)\n",
        "    x = hk.LayerNorm(axis=1, create_offset=True, create_scale=True)(x)\n",
        "    return x\n",
        "\n",
        "\n",
        "def network_definition(graph: jraph.GraphsTuple) -> jraph.GraphsTuple:\n",
        "    latent = jraph.GraphMapFeatures(MLPModule(), MLPModule())(graph)\n",
        "    latent0 = latent\n",
        "    outputs = []\n",
        "\n",
        "    core = jraph.GraphNetwork(\n",
        "        update_edge_fn=jraph.concatenated_args(MLPModule()),\n",
        "        update_node_fn=jraph.concatenated_args(MLPModule())\n",
        "    )\n",
        "    decoder = jraph.GraphMapFeatures(MLPModule(), MLPModule())\n",
        "\n",
        "    output_transform = jraph.GraphMapFeatures(\n",
        "        embed_edge_fn=hk.Linear(1)\n",
        "    )\n",
        "\n",
        "    num_message_passing_steps = 8\n",
        "    for _ in range(num_message_passing_steps):\n",
        "        core_input = latent._replace(\n",
        "            nodes=jnp.concatenate((latent.nodes, latent0.nodes), axis=1),\n",
        "            edges=jnp.concatenate((latent.edges, latent0.edges), axis=1)\n",
        "        )\n",
        "        latent = core(core_input)\n",
        "        decoded = decoder(latent)\n",
        "        outputs.append(output_transform(decoded))\n",
        "\n",
        "    return outputs"
      ],
      "metadata": {
        "pycharm": {
          "name": "#%%\n"
        },
        "id": "6zhdRTPNll-E"
      }
    },
    {
      "cell_type": "markdown",
      "source": [
        "Let's load a pretrained model as training from scratch would take ~30 min. Below we provide a small example of how to train the model from scratch."
      ],
      "metadata": {
        "collapsed": false,
        "pycharm": {
          "name": "#%% md\n"
        },
        "id": "1RXOzxwQll-E"
      }
    },
    {
      "cell_type": "code",
      "execution_count": null,
      "outputs": [
        {
          "output_type": "stream",
          "name": "stderr",
          "text": [
            "/usr/local/lib/python3.7/dist-packages/haiku/_src/data_structures.py:144: FutureWarning: jax.tree_flatten is deprecated, and will be removed in a future release. Use jax.tree_util.tree_flatten instead.\n",
            "  leaves, treedef = jax.tree_flatten(tree)\n",
            "/usr/local/lib/python3.7/dist-packages/haiku/_src/data_structures.py:145: FutureWarning: jax.tree_unflatten is deprecated, and will be removed in a future release. Use jax.tree_util.tree_unflatten instead.\n",
            "  return jax.tree_unflatten(treedef, leaves)\n"
          ]
        }
      ],
      "source": [
        "with open('net2vec/routing_by_backprop/log/labsim/sp1/snapshot-8000.pickle', 'rb') as f:\n",
        "    params, state = pickle.load(f)"
      ],
      "metadata": {
        "pycharm": {
          "name": "#%%\n"
        },
        "id": "a8yD9bvFll-F",
        "colab": {
          "base_uri": "https://localhost:8080/"
        },
        "outputId": "059268b3-de0a-4d35-8c96-295a943d3f1c"
      }
    },
    {
      "cell_type": "markdown",
      "source": [
        "Now we can evaluate the model and compare its prediction with Dijkstra algorithm"
      ],
      "metadata": {
        "collapsed": false,
        "pycharm": {
          "name": "#%% md\n"
        },
        "id": "bfb7KCsxll-F"
      }
    },
    {
      "cell_type": "code",
      "execution_count": null,
      "outputs": [],
      "source": [
        "# Specify the src and destination nodes \n",
        "src = 0\n",
        "dst = 7\n",
        "\n",
        "x,y = to_jraph(G,src,dst)"
      ],
      "metadata": {
        "pycharm": {
          "name": "#%%\n"
        },
        "id": "gwQ0vnQlll-F"
      }
    },
    {
      "cell_type": "code",
      "execution_count": null,
      "outputs": [],
      "source": [
        "network = hk.without_apply_rng(hk.transform_with_state(network_definition))\n",
        "hats, _ = network.apply(params, state, x)"
      ],
      "metadata": {
        "pycharm": {
          "name": "#%%\n"
        },
        "id": "gFrhoSJkll-G"
      }
    },
    {
      "cell_type": "code",
      "execution_count": null,
      "outputs": [
        {
          "output_type": "display_data",
          "data": {
            "text/plain": [
              "<Figure size 864x288 with 2 Axes>"
            ],
            "image/png": "[encoded data removed]"
          },
          "metadata": {}
        }
      ],
      "source": [
        "p = jax.nn.sigmoid(hats[-1].edges)\n",
        "fig,axs = plt.subplots(ncols=2,figsize=(12,4))\n",
        "\n",
        "spl = list(pairwise(G.graph['all_pairs'][src][dst]))\n",
        "\n",
        "def plot_route(G, pos, alpha, ax):\n",
        "    nx.draw_networkx_nodes(G, pos, nodelist=set(G.nodes).difference(set([src,dst])),ax=ax)\n",
        "    nx.draw_networkx_nodes(G, pos, nodelist=[src],node_color='green',ax=ax)\n",
        "    nx.draw_networkx_nodes(G, pos, nodelist=[dst],node_color='red',ax=ax)\n",
        "    nx.draw_networkx_edges(G,pos,edge_color='blue', alpha=0.2,ax=ax,style=':');\n",
        "    nx.draw_networkx_edges(G,pos,edge_color=[(0.,0.,0.,np.asarray(a)) for a in alpha],ax=ax);\n",
        "    nx.draw_networkx_labels(G,pos,ax=ax);\n",
        "\n",
        "spl = list(pairwise(G.graph['all_pairs'][src][dst]))\n",
        "alpha=[float(e in spl) for e in G.edges]\n",
        "\n",
        "plot_route(G,pos,alpha,axs[0])\n",
        "axs[0].set_title('Hard routing (Dijkstra)');\n",
        "plot_route(G,pos,p.flatten(),axs[1])\n",
        "axs[1].set_title('Soft routing');"
      ],
      "metadata": {
        "pycharm": {
          "name": "#%%\n"
        },
        "id": "nbb0xhColl-G",
        "outputId": "5b3e7daa-cc33-4ff2-ad78-260bc011055d",
        "colab": {
          "base_uri": "https://localhost:8080/",
          "height": 264
        }
      }
    },
    {
      "cell_type": "markdown",
      "source": [
        "# Optimizing a real network\n",
        "\n",
        "In this section we show how to optimize a real-world network. To do this, we need to evaluate our model for all possible source-destination node pairs. For each pair, the link weights are going to be updated, optimizing the maximum link utilization. An efficient implementation is obtained by `vmap` transformation."
      ],
      "metadata": {
        "collapsed": false,
        "pycharm": {
          "name": "#%% md\n"
        },
        "id": "IuGpjojSll-H"
      }
    },
    {
      "cell_type": "code",
      "execution_count": null,
      "outputs": [],
      "source": [
        "def apply_for_pair(w: jnp.array, src: jnp.array, dst: jnp.array, params: hk.Params, state: hk.State,\n",
        "                   graph_template: jraph.GraphsTuple) -> jnp.array:\n",
        "    nodes = jnp.zeros_like(graph_template.nodes)\n",
        "    nodes = nodes.at[src, 0].set(1)\n",
        "    nodes = nodes.at[dst, 1].set(1)\n",
        "    graph = graph_template._replace(nodes=nodes)\n",
        "    graph = graph._replace(edges=w)\n",
        "    hats, _ = network.apply(params, state, graph)\n",
        "    return jax.nn.sigmoid(hats[-1].edges.flatten())\n",
        "\n",
        "apply_for_graph = jax.vmap(apply_for_pair, in_axes=(None, 0, 0, None, None, None))\n",
        "\n",
        "temperature = 0.1\n",
        "\n",
        "@jax.jit\n",
        "def cost_fn(x:jnp.ndarray)->float:\n",
        "    '''Smooth approximation to max function'''\n",
        "    scaled_x = x/temperature\n",
        "    return temperature*jnp.dot(jax.nn.softmax(scaled_x),scaled_x)\n",
        "\n",
        "\n",
        "def cost(w: jnp.array, src: jnp.array, dst: jnp.array, params: hk.Params, state: hk.State,\n",
        "         graph_template: jraph.GraphsTuple, tm: jnp.array) -> jnp.array:\n",
        "    p = apply_for_graph(w, src, dst, params, state, graph_template)\n",
        "    flat_tm = tm[src, dst]\n",
        "    link_traffic = flat_tm @ p\n",
        "    return cost_fn(link_traffic)\n",
        "\n",
        "def true_cost(H: nx.DiGraph, tm: np.array, src: np.array, dst: np.array, x: jraph.GraphsTuple, w: np.array):\n",
        "    '''\n",
        "    Compute true cost without any soft approximation\n",
        "    :param H: topology\n",
        "    :param tm: traffic matrix\n",
        "    :param src: sender indices\n",
        "    :param dst: receiver indices\n",
        "    :param x: template graph\n",
        "    :param w: weights\n",
        "    :return: max load\n",
        "    '''\n",
        "    edge_attributes = {(int(s), int(r)): float(aw) for s, r, aw in zip(x.senders, x.receivers, w)}\n",
        "    nx.set_edge_attributes(H, edge_attributes, 'weight')\n",
        "    all_pairs = dict(nx.all_pairs_dijkstra_path(H, weight='weight'))\n",
        "\n",
        "    hard_routing = []\n",
        "    ledges = list(H.edges)\n",
        "    for sd in zip(src, dst):\n",
        "        s,d = jax.tree_map(int,sd)\n",
        "        row = np.zeros(w.shape[0])\n",
        "        path = [ledges.index(e) for e in pairwise(all_pairs[s][d])]\n",
        "        row[path] = 1\n",
        "        hard_routing.append(row)\n",
        "\n",
        "    hard_routing = np.stack(hard_routing, axis=0)\n",
        "    flat_tm = tm[src, dst]\n",
        "    link_traffic = flat_tm @ hard_routing\n",
        "    th = float(np.max(link_traffic))\n",
        "\n",
        "    return th\n",
        "\n",
        "@jax.jit\n",
        "def update(w: jnp.array, src: jnp.array, dst: jnp.array, params: hk.Params, state: hk.State,\n",
        "         graph_template: jraph.GraphsTuple, tm: jnp.array,lr: chex.Array) -> jnp.array:\n",
        "    '''Gradient descent update   constrained to positive link weights'''\n",
        "    grads = jax.grad(cost)(w, src, dst, params, state, graph_template, tm)\n",
        "    proposal = w - lr*grads\n",
        "    proposal = jnp.where(proposal < 0, 3*lr, proposal)\n",
        "    return proposal"
      ],
      "metadata": {
        "pycharm": {
          "name": "#%%\n"
        },
        "id": "DCixZTsHll-I"
      }
    },
    {
      "cell_type": "markdown",
      "source": [
        "Neural network builds differentiable surrogate for discrete Dijkstra algorithm. Let's  explore the gradient of the approximation to minimize the objective TE function."
      ],
      "metadata": {
        "collapsed": false,
        "pycharm": {
          "name": "#%% md\n"
        },
        "id": "68I-B8twll-I"
      }
    },
    {
      "cell_type": "code",
      "execution_count": null,
      "outputs": [
        {
          "output_type": "execute_result",
          "data": {
            "text/plain": [
              "{'initialcost': 1.0479357359916401,\n",
              " 'finalcost_0': 0.8055977515045523,\n",
              " 'finalcost_1': 0.8055977515045523,\n",
              " 'finalcost_2': 0.8055977515045523}"
            ]
          },
          "metadata": {},
          "execution_count": 17
        }
      ],
      "source": [
        "n = len(G)\n",
        "\n",
        "print(\"Num nodes:\", n)\n",
        "print(\"Num edges:\", len(G.edges))\n",
        "\n",
        "srcu, dstu = np.triu_indices(n, k=1)\n",
        "srcl, dstl = np.tril_indices(n, k=-1)\n",
        "\n",
        "src = jnp.concatenate([srcu, srcl], axis=0)\n",
        "dst = jnp.concatenate([dstu, dstl], axis=0)\n",
        "\n",
        "# This controls congestion level\n",
        "tmscale = 0.6\n",
        "\n",
        "# Link weights are all initialized to 1\n",
        "w = jnp.ones_like(x.edges)\n",
        "tm = tmscale * np.random.uniform(0.0, 1.0, size=(n, n)) / (n - 1)\n",
        "\n",
        "H = G.copy()\n",
        "\n",
        "initialcost = true_cost(H, tm, src, dst, x, w)\n",
        "result = dict(\n",
        "            initialcost=initialcost,\n",
        "        )\n",
        "\n",
        "lr = 2e-2\n",
        "\n",
        "# Run 3 optimization steps\n",
        "for i in range(3):\n",
        "    w = update(w, src, dst, params, state, x, tm,lr)\n",
        "    result[f'finalcost_{i}'] = true_cost(H, tm, src, dst, x, w)\n",
        "\n",
        "w=w.block_until_ready()\n",
        "\n",
        "result"
      ],
      "metadata": {
        "pycharm": {
          "name": "#%%\n"
        },
        "id": "Y3YFyLXnll-J",
        "outputId": "91a353d4-710b-4d0a-c526-394729a671f4",
        "colab": {
          "base_uri": "https://localhost:8080/"
        }
      }
    },
    {
      "cell_type": "markdown",
      "source": [
        "Notice how the ***true*** maximum load is reduced."
      ],
      "metadata": {
        "collapsed": false,
        "pycharm": {
          "name": "#%% md\n"
        },
        "id": "W9g7DkyAll-J"
      }
    },
    {
      "cell_type": "markdown",
      "source": [
        "# Trainig the model\n",
        "\n",
        "Suppose you want to train the model from scratch. Below we show a brief introduction of how we trained it. Note that this is code is only for didactic purpose and it's not the most efficient implementation. For our real code check the repository [routing_by_backprop](https://github.com/krzysztofrusek/net2vec/tree/master/routing_by_backprop)."
      ],
      "metadata": {
        "id": "UxKTqAx6Ul_r"
      }
    },
    {
      "cell_type": "code",
      "source": [
        "from scipy.stats import beta\n",
        "\n",
        "def random_beta_w(G: nx.Graph) -> np.ndarray:\n",
        "    # random weights 0.5, 1.5 with mode at 1\n",
        "    w_dist = beta(a=10, b=10, scale=2)\n",
        "    w = w_dist.rvs(len(G.edges))\n",
        "    return w\n",
        "\n",
        "def _nearest_bigger_power_of_two(x: int) -> int:\n",
        "    \"\"\"Computes the nearest power of two greater than x for padding.\n",
        "    Idea taken from:\n",
        "    https://github.com/deepmind/jraph/blob/master/jraph/ogb_examples/train_flax.py\n",
        "    \"\"\"\n",
        "    y = 2\n",
        "    while y < x:\n",
        "        y *= 2\n",
        "    return y\n",
        "\n",
        "def data_fn(steps=10):\n",
        "  for _ in range(steps):\n",
        "    G = nx.barabasi_albert_graph(16,2)\n",
        "    G = nx.convert_node_labels_to_integers(G)\n",
        "    G = nx.DiGraph(G)\n",
        "    w = {k: ww for k,ww in zip(G.edges,random_beta_w(G))}\n",
        "    nx.set_edge_attributes(G, w, name='weight')\n",
        "\n",
        "    all_pairs = dict(nx.all_pairs_dijkstra_path(G, weight='weight'))\n",
        "    G.graph['all_pairs']=all_pairs\n",
        "\n",
        "    nnodes = len(G)\n",
        "    src, dst = np.random.choice(nnodes, 2, replace=False)\n",
        "\n",
        "    x,y = to_jraph(G,src,dst)\n",
        "\n",
        "    # Add 1 since we need at least one padding node for pad_with_graphs.\n",
        "    pad_nodes_to = _nearest_bigger_power_of_two(jnp.sum(x.n_node)) + 1\n",
        "    pad_edges_to = _nearest_bigger_power_of_two(jnp.sum(x.n_edge))\n",
        "    # Add 1 since we need at least one padding graph for pad_with_graphs.\n",
        "    # We do not pad to nearest power of two because the batch size is fixed.\n",
        "    pad_graphs_to = x.n_node.shape[0] + 1\n",
        "\n",
        "    pbx = jraph.pad_with_graphs(x,\n",
        "                                          n_node=pad_nodes_to,\n",
        "                                          n_edge=pad_edges_to,\n",
        "                                          n_graph=pad_graphs_to)\n",
        "    pby = jnp.pad(y,((0,pad_edges_to-y.shape[0]),(0,0)))\n",
        "\n",
        "    yield pbx,pby"
      ],
      "metadata": {
        "id": "8nhHqO6bVFdN"
      },
      "execution_count": null,
      "outputs": []
    },
    {
      "cell_type": "code",
      "source": [
        "for x,y in data_fn():\n",
        "  break"
      ],
      "metadata": {
        "id": "hSbOixdlYAoT"
      },
      "execution_count": null,
      "outputs": []
    },
    {
      "cell_type": "markdown",
      "source": [
        "The *node* features are represented by a one-hot vector of size 2: \n",
        "\n",
        "\n",
        "\n",
        "1.   $[0,0]$ not used\n",
        "2.   $[1,0]$ source\n",
        "3.   $[0,1]$ destination"
      ],
      "metadata": {
        "id": "U96Qz03PYb9H"
      }
    },
    {
      "cell_type": "code",
      "source": [
        "print(x.nodes)"
      ],
      "metadata": {
        "colab": {
          "base_uri": "https://localhost:8080/"
        },
        "id": "DMuAcESmYW0t",
        "outputId": "648facff-337f-408d-ab09-44090a1ccacd"
      },
      "execution_count": null,
      "outputs": [
        {
          "output_type": "stream",
          "name": "stdout",
          "text": [
            "[[0. 0.]\n",
            " [0. 1.]\n",
            " [0. 0.]\n",
            " [0. 0.]\n",
            " [0. 0.]\n",
            " [0. 0.]\n",
            " [1. 0.]\n",
            " [0. 0.]\n",
            " [0. 0.]\n",
            " [0. 0.]\n",
            " [0. 0.]\n",
            " [0. 0.]\n",
            " [0. 0.]\n",
            " [0. 0.]\n",
            " [0. 0.]\n",
            " [0. 0.]\n",
            " [0. 0.]]\n"
          ]
        }
      ]
    },
    {
      "cell_type": "markdown",
      "source": [
        "The *edge* features indicate the weights used in the Dijkstra algorithm. Notice that some values are 0 because they are padded as XLA works with static shapes."
      ],
      "metadata": {
        "id": "G7cvcu2TYgDl"
      }
    },
    {
      "cell_type": "code",
      "source": [
        "print(x.edges)"
      ],
      "metadata": {
        "colab": {
          "base_uri": "https://localhost:8080/"
        },
        "id": "fIZUYbKaYd0K",
        "outputId": "22a97e67-2926-44f3-b572-7cfca55a0799"
      },
      "execution_count": null,
      "outputs": [
        {
          "output_type": "stream",
          "name": "stdout",
          "text": [
            "[[0.7864701 ]\n",
            " [1.1090951 ]\n",
            " [0.7248116 ]\n",
            " [0.6452629 ]\n",
            " [0.92690367]\n",
            " [1.0975343 ]\n",
            " [1.3076893 ]\n",
            " [0.7435798 ]\n",
            " [1.3075511 ]\n",
            " [1.0280837 ]\n",
            " [1.0992296 ]\n",
            " [1.1906242 ]\n",
            " [1.5735174 ]\n",
            " [1.0985241 ]\n",
            " [1.0040736 ]\n",
            " [1.291948  ]\n",
            " [0.5331162 ]\n",
            " [0.57096744]\n",
            " [1.0481824 ]\n",
            " [0.6160452 ]\n",
            " [0.8359031 ]\n",
            " [1.3763239 ]\n",
            " [1.2620989 ]\n",
            " [0.7235914 ]\n",
            " [0.5866209 ]\n",
            " [1.0458976 ]\n",
            " [0.51487595]\n",
            " [1.319676  ]\n",
            " [1.1214187 ]\n",
            " [0.97242135]\n",
            " [1.285441  ]\n",
            " [0.75857484]\n",
            " [0.93694824]\n",
            " [1.2245601 ]\n",
            " [1.1816072 ]\n",
            " [0.7320108 ]\n",
            " [1.2614944 ]\n",
            " [0.7291986 ]\n",
            " [0.7906138 ]\n",
            " [0.9247765 ]\n",
            " [1.2232394 ]\n",
            " [1.04055   ]\n",
            " [0.9684571 ]\n",
            " [0.56789637]\n",
            " [0.84254557]\n",
            " [1.0287862 ]\n",
            " [0.8344832 ]\n",
            " [0.8182591 ]\n",
            " [0.8067121 ]\n",
            " [0.8295423 ]\n",
            " [1.0590535 ]\n",
            " [0.69329035]\n",
            " [0.96840906]\n",
            " [0.6502565 ]\n",
            " [0.92289656]\n",
            " [0.93396974]\n",
            " [0.        ]\n",
            " [0.        ]\n",
            " [0.        ]\n",
            " [0.        ]\n",
            " [0.        ]\n",
            " [0.        ]\n",
            " [0.        ]\n",
            " [0.        ]]\n"
          ]
        }
      ]
    },
    {
      "cell_type": "markdown",
      "source": [
        "The label or *y* is a binary vector indicating the links that are part of the Dijkstra shortest path between the source and destination nodes."
      ],
      "metadata": {
        "id": "cAa_YPmpYlQV"
      }
    },
    {
      "cell_type": "code",
      "source": [
        "print(y)"
      ],
      "metadata": {
        "colab": {
          "base_uri": "https://localhost:8080/"
        },
        "id": "wBuY0QbAYjnR",
        "outputId": "4e0f9c08-1f42-4a1d-fe19-6bc4c76dc49c"
      },
      "execution_count": null,
      "outputs": [
        {
          "output_type": "stream",
          "name": "stdout",
          "text": [
            "[[1.]\n",
            " [0.]\n",
            " [0.]\n",
            " [0.]\n",
            " [0.]\n",
            " [0.]\n",
            " [0.]\n",
            " [0.]\n",
            " [0.]\n",
            " [0.]\n",
            " [0.]\n",
            " [0.]\n",
            " [0.]\n",
            " [0.]\n",
            " [0.]\n",
            " [0.]\n",
            " [0.]\n",
            " [0.]\n",
            " [0.]\n",
            " [0.]\n",
            " [0.]\n",
            " [0.]\n",
            " [0.]\n",
            " [0.]\n",
            " [0.]\n",
            " [0.]\n",
            " [0.]\n",
            " [0.]\n",
            " [0.]\n",
            " [0.]\n",
            " [1.]\n",
            " [0.]\n",
            " [0.]\n",
            " [0.]\n",
            " [0.]\n",
            " [0.]\n",
            " [0.]\n",
            " [0.]\n",
            " [0.]\n",
            " [0.]\n",
            " [0.]\n",
            " [0.]\n",
            " [0.]\n",
            " [0.]\n",
            " [0.]\n",
            " [0.]\n",
            " [0.]\n",
            " [0.]\n",
            " [0.]\n",
            " [0.]\n",
            " [0.]\n",
            " [0.]\n",
            " [0.]\n",
            " [0.]\n",
            " [0.]\n",
            " [0.]\n",
            " [0.]\n",
            " [0.]\n",
            " [0.]\n",
            " [0.]\n",
            " [0.]\n",
            " [0.]\n",
            " [0.]\n",
            " [0.]]\n"
          ]
        }
      ]
    },
    {
      "cell_type": "code",
      "source": [
        "from typing import Tuple,Any\n",
        "\n",
        "@functools.partial(jax.jit, static_argnums=4) #4th argument is static\n",
        "def loss(params: hk.Params, state: hk.State, x:jraph.GraphsTuple, y:jnp.ndarray, is_training=True) -> Tuple[Any, Any]:\n",
        "    hats, state = network.apply(params, state, x)\n",
        "    mask = jraph.get_edge_padding_mask(x)[..., jnp.newaxis]\n",
        "\n",
        "    losses = [jnp.mean(optax.sigmoid_binary_cross_entropy(hat.edges, y), where=mask) for hat in hats]\n",
        "    final_loss = sum(losses)/len(losses) if is_training else losses[-1]\n",
        "    return final_loss, state\n",
        "\n",
        "@jax.jit\n",
        "def update(params, state, opt_state, x,y):\n",
        "    (l, s), grads = jax.value_and_grad(loss, has_aux=True)(params, state, x,y, True)\n",
        "    updates, new_opt_state = opt.update(grads, opt_state)\n",
        "    new_params = optax.apply_updates(params, updates)\n",
        "    return l, s, new_params, new_opt_state"
      ],
      "metadata": {
        "id": "d853ye9hYnMR"
      },
      "execution_count": null,
      "outputs": []
    },
    {
      "cell_type": "code",
      "source": [
        "losses=[]\n",
        "\n",
        "params, state = network.init(jax.random.PRNGKey(42), x)\n",
        "opt = optax.adam(learning_rate=0.001)\n",
        "opt_state = opt.init(params)\n",
        "\n",
        "for x,y in data_fn(256):\n",
        "  l, state, params, opt_state = update(params, state, opt_state, x,y)\n",
        "  losses.append(l)"
      ],
      "metadata": {
        "id": "VZQbvmdgbX6n"
      },
      "execution_count": null,
      "outputs": []
    },
    {
      "cell_type": "code",
      "source": [
        "import pandas as pd\n",
        "pd.DataFrame(dict(loss=np.concatenate([losses]))).ewm(span = 32).mean().plot()\n",
        "plt.xlabel('step');"
      ],
      "metadata": {
        "colab": {
          "base_uri": "https://localhost:8080/",
          "height": 285
        },
        "id": "8MwKfjEHcXc8",
        "outputId": "ba3e9495-4ffe-441d-d85d-4418c9c06d67"
      },
      "execution_count": null,
      "outputs": [
        {
          "output_type": "display_data",
          "data": {
            "text/plain": [
              "<Figure size 432x288 with 1 Axes>"
            ],
            "image/png": "[encoded data removed]"
          },
          "metadata": {}
        }
      ]
    }
  ],
  "metadata": {
    "kernelspec": {
      "display_name": "Python 3",
      "language": "python",
      "name": "python3"
    },
    "language_info": {
      "codemirror_mode": {
        "name": "ipython",
        "version": 2
      },
      "file_extension": ".py",
      "mimetype": "text/x-python",
      "name": "python",
      "nbconvert_exporter": "python",
      "pygments_lexer": "ipython2",
      "version": "2.7.6"
    },
    "colab": {
      "provenance": [],
      "collapsed_sections": [],
      "include_colab_link": true
    }
  },
  "nbformat": 4,
  "nbformat_minor": 0
}